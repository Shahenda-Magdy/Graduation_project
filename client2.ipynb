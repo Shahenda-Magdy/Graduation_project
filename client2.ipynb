{
 "cells": [
  {
   "cell_type": "code",
   "execution_count": 3,
   "id": "bde72403",
   "metadata": {},
   "outputs": [
    {
     "name": "stdout",
     "output_type": "stream",
     "text": [
      "registering\n"
     ]
    },
    {
     "name": "stderr",
     "output_type": "stream",
     "text": [
      "C:\\Users\\Magdy Amin\\Downloads\\anaconda\\lib\\site-packages\\seaborn\\_decorators.py:36: FutureWarning: Pass the following variable as a keyword arg: x. From version 0.12, the only valid positional argument will be `data`, and passing other arguments without an explicit keyword will result in an error or misinterpretation.\n",
      "  warnings.warn(\n"
     ]
    },
    {
     "data": {
      "image/png": "[encoded data removed]",
      "text/plain": [
       "<Figure size 432x288 with 1 Axes>"
      ]
     },
     "metadata": {
      "needs_background": "light"
     },
     "output_type": "display_data"
    },
    {
     "name": "stderr",
     "output_type": "stream",
     "text": [
      "INFO flower 2022-11-28 15:46:29,436 | connection.py:102 | Opened insecure gRPC connection (no certificates were passed)\n",
      "DEBUG flower 2022-11-28 15:46:29,441 | connection.py:39 | ChannelConnectivity.IDLE\n",
      "DEBUG flower 2022-11-28 15:46:29,652 | connection.py:121 | gRPC channel closed\n"
     ]
    },
    {
     "ename": "_MultiThreadedRendezvous",
     "evalue": "<_MultiThreadedRendezvous of RPC that terminated with:\n\tstatus = StatusCode.UNAVAILABLE\n\tdetails = \"DNS resolution failed for localhost:-f: UNAVAILABLE: WSA Error\"\n\tdebug_error_string = \"UNKNOWN:Failed to pick subchannel {created_time:\"2022-11-28T13:46:29.4447993+00:00\", children:[UNKNOWN:DNS resolution failed for localhost:-f: UNAVAILABLE: WSA Error {grpc_status:14, created_time:\"2022-11-28T13:46:29.4447939+00:00\"}]}\"\n>",
     "output_type": "error",
     "traceback": [
      "\u001b[1;31m---------------------------------------------------------------------------\u001b[0m",
      "\u001b[1;31m_MultiThreadedRendezvous\u001b[0m                  Traceback (most recent call last)",
      "Input \u001b[1;32mIn [3]\u001b[0m, in \u001b[0;36m<cell line: 85>\u001b[1;34m()\u001b[0m\n\u001b[0;32m     82\u001b[0m         \u001b[38;5;28mprint\u001b[39m(\u001b[38;5;124m\"\u001b[39m\u001b[38;5;124mEval accuracy : \u001b[39m\u001b[38;5;124m\"\u001b[39m, accuracy)\n\u001b[0;32m     83\u001b[0m         \u001b[38;5;28;01mreturn\u001b[39;00m loss, \u001b[38;5;28mlen\u001b[39m(x_test), {\u001b[38;5;124m\"\u001b[39m\u001b[38;5;124maccuracy\u001b[39m\u001b[38;5;124m\"\u001b[39m: accuracy}\n\u001b[1;32m---> 85\u001b[0m \u001b[43mfl\u001b[49m\u001b[38;5;241;43m.\u001b[39;49m\u001b[43mclient\u001b[49m\u001b[38;5;241;43m.\u001b[39;49m\u001b[43mstart_numpy_client\u001b[49m\u001b[43m(\u001b[49m\n\u001b[0;32m     86\u001b[0m \u001b[43m    \u001b[49m\u001b[43mserver_address\u001b[49m\u001b[38;5;241;43m=\u001b[39;49m\u001b[38;5;124;43m\"\u001b[39;49m\u001b[38;5;124;43mlocalhost:\u001b[39;49m\u001b[38;5;124;43m\"\u001b[39;49m\u001b[38;5;241;43m+\u001b[39;49m\u001b[38;5;28;43mstr\u001b[39;49m\u001b[43m(\u001b[49m\u001b[43msys\u001b[49m\u001b[38;5;241;43m.\u001b[39;49m\u001b[43margv\u001b[49m\u001b[43m[\u001b[49m\u001b[38;5;241;43m1\u001b[39;49m\u001b[43m]\u001b[49m\u001b[43m)\u001b[49m\u001b[43m,\u001b[49m\u001b[43m \u001b[49m\n\u001b[0;32m     87\u001b[0m \u001b[43m    \u001b[49m\u001b[43mclient\u001b[49m\u001b[38;5;241;43m=\u001b[39;49m\u001b[43mclient2\u001b[49m\u001b[43m(\u001b[49m\u001b[43m)\u001b[49m\u001b[43m,\u001b[49m\n\u001b[0;32m     88\u001b[0m \u001b[43m    \u001b[49m\u001b[43mgrpc_max_message_length\u001b[49m\u001b[43m \u001b[49m\u001b[38;5;241;43m=\u001b[39;49m\u001b[43m \u001b[49m\u001b[38;5;241;43m1024\u001b[39;49m\u001b[38;5;241;43m*\u001b[39;49m\u001b[38;5;241;43m1024\u001b[39;49m\u001b[38;5;241;43m*\u001b[39;49m\u001b[38;5;241;43m1024\u001b[39;49m\n\u001b[0;32m     89\u001b[0m \u001b[43m)\u001b[49m\n",
      "File \u001b[1;32m~\\Downloads\\anaconda\\lib\\site-packages\\flwr\\client\\app.py:208\u001b[0m, in \u001b[0;36mstart_numpy_client\u001b[1;34m(server_address, client, grpc_max_message_length, root_certificates)\u001b[0m\n\u001b[0;32m    167\u001b[0m \u001b[38;5;124;03m\"\"\"Start a Flower NumPyClient which connects to a gRPC server.\u001b[39;00m\n\u001b[0;32m    168\u001b[0m \n\u001b[0;32m    169\u001b[0m \u001b[38;5;124;03mParameters\u001b[39;00m\n\u001b[1;32m   (...)\u001b[0m\n\u001b[0;32m    204\u001b[0m \u001b[38;5;124;03m>>> )\u001b[39;00m\n\u001b[0;32m    205\u001b[0m \u001b[38;5;124;03m\"\"\"\u001b[39;00m\n\u001b[0;32m    207\u001b[0m \u001b[38;5;66;03m# Start\u001b[39;00m\n\u001b[1;32m--> 208\u001b[0m \u001b[43mstart_client\u001b[49m\u001b[43m(\u001b[49m\n\u001b[0;32m    209\u001b[0m \u001b[43m    \u001b[49m\u001b[43mserver_address\u001b[49m\u001b[38;5;241;43m=\u001b[39;49m\u001b[43mserver_address\u001b[49m\u001b[43m,\u001b[49m\n\u001b[0;32m    210\u001b[0m \u001b[43m    \u001b[49m\u001b[43mclient\u001b[49m\u001b[38;5;241;43m=\u001b[39;49m\u001b[43m_wrap_numpy_client\u001b[49m\u001b[43m(\u001b[49m\u001b[43mclient\u001b[49m\u001b[38;5;241;43m=\u001b[39;49m\u001b[43mclient\u001b[49m\u001b[43m)\u001b[49m\u001b[43m,\u001b[49m\n\u001b[0;32m    211\u001b[0m \u001b[43m    \u001b[49m\u001b[43mgrpc_max_message_length\u001b[49m\u001b[38;5;241;43m=\u001b[39;49m\u001b[43mgrpc_max_message_length\u001b[49m\u001b[43m,\u001b[49m\n\u001b[0;32m    212\u001b[0m \u001b[43m    \u001b[49m\u001b[43mroot_certificates\u001b[49m\u001b[38;5;241;43m=\u001b[39;49m\u001b[43mroot_certificates\u001b[49m\u001b[43m,\u001b[49m\n\u001b[0;32m    213\u001b[0m \u001b[43m\u001b[49m\u001b[43m)\u001b[49m\n",
      "File \u001b[1;32m~\\Downloads\\anaconda\\lib\\site-packages\\flwr\\client\\app.py:141\u001b[0m, in \u001b[0;36mstart_client\u001b[1;34m(server_address, client, grpc_max_message_length, root_certificates)\u001b[0m\n\u001b[0;32m    138\u001b[0m receive, send \u001b[38;5;241m=\u001b[39m conn\n\u001b[0;32m    140\u001b[0m \u001b[38;5;28;01mwhile\u001b[39;00m \u001b[38;5;28;01mTrue\u001b[39;00m:\n\u001b[1;32m--> 141\u001b[0m     server_message \u001b[38;5;241m=\u001b[39m \u001b[43mreceive\u001b[49m\u001b[43m(\u001b[49m\u001b[43m)\u001b[49m\n\u001b[0;32m    142\u001b[0m     client_message, sleep_duration, keep_going \u001b[38;5;241m=\u001b[39m handle(\n\u001b[0;32m    143\u001b[0m         client, server_message\n\u001b[0;32m    144\u001b[0m     )\n\u001b[0;32m    145\u001b[0m     send(client_message)\n",
      "File \u001b[1;32m~\\Downloads\\anaconda\\lib\\site-packages\\flwr\\client\\grpc_client\\connection.py:113\u001b[0m, in \u001b[0;36mgrpc_connection.<locals>.<lambda>\u001b[1;34m()\u001b[0m\n\u001b[0;32m    109\u001b[0m stub \u001b[38;5;241m=\u001b[39m FlowerServiceStub(channel)\n\u001b[0;32m    111\u001b[0m server_message_iterator: Iterator[ServerMessage] \u001b[38;5;241m=\u001b[39m stub\u001b[38;5;241m.\u001b[39mJoin(\u001b[38;5;28miter\u001b[39m(queue\u001b[38;5;241m.\u001b[39mget, \u001b[38;5;28;01mNone\u001b[39;00m))\n\u001b[1;32m--> 113\u001b[0m receive: Callable[[], ServerMessage] \u001b[38;5;241m=\u001b[39m \u001b[38;5;28;01mlambda\u001b[39;00m: \u001b[38;5;28;43mnext\u001b[39;49m\u001b[43m(\u001b[49m\u001b[43mserver_message_iterator\u001b[49m\u001b[43m)\u001b[49m\n\u001b[0;32m    114\u001b[0m send: Callable[[ClientMessage], \u001b[38;5;28;01mNone\u001b[39;00m] \u001b[38;5;241m=\u001b[39m \u001b[38;5;28;01mlambda\u001b[39;00m msg: queue\u001b[38;5;241m.\u001b[39mput(msg, block\u001b[38;5;241m=\u001b[39m\u001b[38;5;28;01mFalse\u001b[39;00m)\n\u001b[0;32m    116\u001b[0m \u001b[38;5;28;01mtry\u001b[39;00m:\n",
      "File \u001b[1;32m~\\Downloads\\anaconda\\lib\\site-packages\\grpc\\_channel.py:426\u001b[0m, in \u001b[0;36m_Rendezvous.__next__\u001b[1;34m(self)\u001b[0m\n\u001b[0;32m    425\u001b[0m \u001b[38;5;28;01mdef\u001b[39;00m \u001b[38;5;21m__next__\u001b[39m(\u001b[38;5;28mself\u001b[39m):\n\u001b[1;32m--> 426\u001b[0m     \u001b[38;5;28;01mreturn\u001b[39;00m \u001b[38;5;28;43mself\u001b[39;49m\u001b[38;5;241;43m.\u001b[39;49m\u001b[43m_next\u001b[49m\u001b[43m(\u001b[49m\u001b[43m)\u001b[49m\n",
      "File \u001b[1;32m~\\Downloads\\anaconda\\lib\\site-packages\\grpc\\_channel.py:809\u001b[0m, in \u001b[0;36m_MultiThreadedRendezvous._next\u001b[1;34m(self)\u001b[0m\n\u001b[0;32m    807\u001b[0m     \u001b[38;5;28;01mraise\u001b[39;00m \u001b[38;5;167;01mStopIteration\u001b[39;00m()\n\u001b[0;32m    808\u001b[0m \u001b[38;5;28;01melse\u001b[39;00m:\n\u001b[1;32m--> 809\u001b[0m     \u001b[38;5;28;01mraise\u001b[39;00m \u001b[38;5;28mself\u001b[39m\n\u001b[0;32m    811\u001b[0m \u001b[38;5;28;01mdef\u001b[39;00m \u001b[38;5;21m_response_ready\u001b[39m():\n\u001b[0;32m    812\u001b[0m     \u001b[38;5;28;01mreturn\u001b[39;00m (\u001b[38;5;28mself\u001b[39m\u001b[38;5;241m.\u001b[39m_state\u001b[38;5;241m.\u001b[39mresponse \u001b[38;5;129;01mis\u001b[39;00m \u001b[38;5;129;01mnot\u001b[39;00m \u001b[38;5;28;01mNone\u001b[39;00m \u001b[38;5;129;01mor\u001b[39;00m\n\u001b[0;32m    813\u001b[0m             (cygrpc\u001b[38;5;241m.\u001b[39mOperationType\u001b[38;5;241m.\u001b[39mreceive_message\n\u001b[0;32m    814\u001b[0m              \u001b[38;5;129;01mnot\u001b[39;00m \u001b[38;5;129;01min\u001b[39;00m \u001b[38;5;28mself\u001b[39m\u001b[38;5;241m.\u001b[39m_state\u001b[38;5;241m.\u001b[39mdue \u001b[38;5;129;01mand\u001b[39;00m\n\u001b[0;32m    815\u001b[0m              \u001b[38;5;28mself\u001b[39m\u001b[38;5;241m.\u001b[39m_state\u001b[38;5;241m.\u001b[39mcode \u001b[38;5;129;01mis\u001b[39;00m \u001b[38;5;129;01mnot\u001b[39;00m \u001b[38;5;28;01mNone\u001b[39;00m))\n",
      "\u001b[1;31m_MultiThreadedRendezvous\u001b[0m: <_MultiThreadedRendezvous of RPC that terminated with:\n\tstatus = StatusCode.UNAVAILABLE\n\tdetails = \"DNS resolution failed for localhost:-f: UNAVAILABLE: WSA Error\"\n\tdebug_error_string = \"UNKNOWN:Failed to pick subchannel {created_time:\"2022-11-28T13:46:29.4447993+00:00\", children:[UNKNOWN:DNS resolution failed for localhost:-f: UNAVAILABLE: WSA Error {grpc_status:14, created_time:\"2022-11-28T13:46:29.4447939+00:00\"}]}\"\n>"
     ]
    }
   ],
   "source": [
    "import flwr as fl\n",
    "import tensorflow as tf\n",
    "from tensorflow import keras\n",
    "import sys\n",
    "import seaborn as sns\n",
    "import matplotlib.pyplot as plt\n",
    "import numpy as np\n",
    "import socket\n",
    "# class client:\n",
    "#     def __init__(self):\n",
    "\n",
    "# class client1(client):\n",
    "# AUxillary methods\n",
    "class client2(fl.client.NumPyClient):\n",
    "    SERVER_IP = '192.168.20.1'\n",
    "    SERVER_PORT = 5678\n",
    "\n",
    "    #     s.send(b'Done')\n",
    "\n",
    "# Define Flower client\n",
    "\n",
    "    signature=''\n",
    "    x='client2'\n",
    "    x=x.encode('utf-8')\n",
    "    with socket.socket(socket.AF_INET , socket.SOCK_STREAM) as s:\n",
    "        s.connect((SERVER_IP, SERVER_PORT))\n",
    "        print(f'registering')\n",
    "        data = s.recv(1024)\n",
    "        data=data.decode('utf-8')\n",
    "        signature=data.encode('utf-8')\n",
    "        s.send(x)\n",
    "    with socket.socket(socket.AF_INET , socket.SOCK_STREAM) as s:\n",
    "        s.connect((SERVER_IP, SERVER_PORT))\n",
    "    #     s.send(b'authenticate please')\n",
    "        s.send(signature)\n",
    "#         data = s.recv(1024)\n",
    "    def getDist(y):\n",
    "        ax = sns.countplot(y)\n",
    "        ax.set(title=\"Count of data classes\")\n",
    "        plt.show()\n",
    "\n",
    "    def getData(dist, x, y):\n",
    "        dx = []\n",
    "        dy = []\n",
    "        counts = [0 for i in range(10)]\n",
    "        for i in range(len(x)):\n",
    "            if counts[y[i]]<dist[y[i]]:\n",
    "                dx.append(x[i])\n",
    "                dy.append(y[i])\n",
    "                counts[y[i]] += 1\n",
    "\n",
    "        return np.array(dx), np.array(dy)\n",
    "\n",
    "    # Load and compile Keras model\n",
    "    model = keras.Sequential([\n",
    "        keras.layers.Flatten(input_shape=(28,28)),\n",
    "        keras.layers.Dense(128, activation='relu'),\n",
    "        keras.layers.Dense(256, activation='relu'),\n",
    "        keras.layers.Dense(10, activation='softmax')\n",
    "    ])\n",
    "    model.compile(\"adam\", \"sparse_categorical_crossentropy\", metrics=[\"accuracy\"])\n",
    "\n",
    "    # Load dataset\n",
    "    (x_train, y_train), (x_test, y_test) = tf.keras.datasets.mnist.load_data()\n",
    "    x_train, x_test = x_train[..., np.newaxis]/255.0, x_test[..., np.newaxis]/255.0\n",
    "    dist = [4000, 4000, 4000, 3000, 10, 10, 10, 10, 4000, 10]\n",
    "    x_train, y_train = getData(dist, x_train, y_train)\n",
    "    getDist(y_train)\n",
    "    def get_parameters(self):\n",
    "        return model.get_weights()\n",
    "\n",
    "    def fit(self, parameters, config):\n",
    "        model.set_weights(parameters)\n",
    "        r = model.fit(x_train, y_train, epochs=1, validation_data=(x_test, y_test), verbose=0)\n",
    "        hist = r.history\n",
    "        print(\"Fit history : \" ,hist)\n",
    "        return model.get_weights(), len(x_train), {}\n",
    "\n",
    "    def evaluate(self, parameters, config):\n",
    "        model.set_weights(parameters)\n",
    "        loss, accuracy = model.evaluate(x_test, y_test, verbose=0)\n",
    "        print(\"Eval accuracy : \", accuracy)\n",
    "        return loss, len(x_test), {\"accuracy\": accuracy}\n",
    "    \n",
    "fl.client.start_numpy_client(\n",
    "    server_address=\"localhost:\"+str(sys.argv[1]), \n",
    "    client=client2(),\n",
    "    grpc_max_message_length = 1024*1024*1024\n",
    ")\n",
    "\n",
    "# Start Flower client"
   ]
  },
  {
   "cell_type": "code",
   "execution_count": null,
   "id": "e50260c1",
   "metadata": {},
   "outputs": [],
   "source": []
  }
 ],
 "metadata": {
  "kernelspec": {
   "display_name": "Python 3 (ipykernel)",
   "language": "python",
   "name": "python3"
  },
  "language_info": {
   "codemirror_mode": {
    "name": "ipython",
    "version": 3
   },
   "file_extension": ".py",
   "mimetype": "text/x-python",
   "name": "python",
   "nbconvert_exporter": "python",
   "pygments_lexer": "ipython3",
   "version": "3.9.12"
  }
 },
 "nbformat": 4,
 "nbformat_minor": 5
}
