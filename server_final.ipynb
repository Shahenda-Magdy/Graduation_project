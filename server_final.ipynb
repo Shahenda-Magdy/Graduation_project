{
 "cells": [
  {
   "cell_type": "code",
   "execution_count": 2,
   "id": "11e06bef",
   "metadata": {},
   "outputs": [
    {
     "name": "stdout",
     "output_type": "stream",
     "text": [
      "Server is listening\n",
      "Connection accepted from :('192.168.20.1', 54259)\n"
     ]
    },
    {
     "name": "stderr",
     "output_type": "stream",
     "text": [
      "INFO flower 2022-11-28 15:46:27,916 | app.py:119 | Starting Flower server, config: ServerConfig(num_rounds=1, round_timeout=None)\n"
     ]
    },
    {
     "name": "stdout",
     "output_type": "stream",
     "text": [
      "authentication:('192.168.20.1', 54260)\n",
      "client2\n"
     ]
    },
    {
     "ename": "RuntimeError",
     "evalue": "Failed to bind to address localhost:-f; set GRPC_VERBOSITY=debug environment variable to see detailed error message.",
     "output_type": "error",
     "traceback": [
      "\u001b[1;31m---------------------------------------------------------------------------\u001b[0m",
      "\u001b[1;31mRuntimeError\u001b[0m                              Traceback (most recent call last)",
      "Input \u001b[1;32mIn [2]\u001b[0m, in \u001b[0;36m<cell line: 65>\u001b[1;34m()\u001b[0m\n\u001b[0;32m     87\u001b[0m     strategy \u001b[38;5;241m=\u001b[39m SaveModelStrategy()\n\u001b[0;32m     89\u001b[0m     \u001b[38;5;66;03m# Start Flower server for three rounds of federated learning\u001b[39;00m\n\u001b[1;32m---> 91\u001b[0m     \u001b[43mfl\u001b[49m\u001b[38;5;241;43m.\u001b[39;49m\u001b[43mserver\u001b[49m\u001b[38;5;241;43m.\u001b[39;49m\u001b[43mstart_server\u001b[49m\u001b[43m(\u001b[49m\n\u001b[0;32m     92\u001b[0m \u001b[43m            \u001b[49m\u001b[43mserver_address\u001b[49m\u001b[43m \u001b[49m\u001b[38;5;241;43m=\u001b[39;49m\u001b[38;5;124;43m\"\u001b[39;49m\u001b[38;5;124;43mlocalhost:\u001b[39;49m\u001b[38;5;124;43m\"\u001b[39;49m\u001b[38;5;241;43m+\u001b[39;49m\u001b[38;5;28;43mstr\u001b[39;49m\u001b[43m(\u001b[49m\u001b[43msys\u001b[49m\u001b[38;5;241;43m.\u001b[39;49m\u001b[43margv\u001b[49m\u001b[43m[\u001b[49m\u001b[38;5;241;43m1\u001b[39;49m\u001b[43m]\u001b[49m\u001b[43m)\u001b[49m\u001b[43m \u001b[49m\u001b[43m,\u001b[49m\u001b[43m \u001b[49m\n\u001b[0;32m     93\u001b[0m \u001b[43m            \u001b[49m\u001b[43mgrpc_max_message_length\u001b[49m\u001b[43m \u001b[49m\u001b[38;5;241;43m=\u001b[39;49m\u001b[43m \u001b[49m\u001b[38;5;241;43m1024\u001b[39;49m\u001b[38;5;241;43m*\u001b[39;49m\u001b[38;5;241;43m1024\u001b[39;49m\u001b[38;5;241;43m*\u001b[39;49m\u001b[38;5;241;43m1024\u001b[39;49m\u001b[43m,\u001b[49m\n\u001b[0;32m     94\u001b[0m \u001b[43m            \u001b[49m\u001b[43mstrategy\u001b[49m\u001b[43m \u001b[49m\u001b[38;5;241;43m=\u001b[39;49m\u001b[43m \u001b[49m\u001b[43mstrategy\u001b[49m\n\u001b[0;32m     95\u001b[0m \u001b[43m    \u001b[49m\u001b[43m)\u001b[49m\n\u001b[0;32m     97\u001b[0m \u001b[38;5;28;01melse\u001b[39;00m:\n\u001b[0;32m     98\u001b[0m     \u001b[38;5;28mprint\u001b[39m(\u001b[38;5;124m\"\u001b[39m\u001b[38;5;124mmalicious user\u001b[39m\u001b[38;5;124m\"\u001b[39m)\n",
      "File \u001b[1;32m~\\Downloads\\anaconda\\lib\\site-packages\\flwr\\server\\app.py:126\u001b[0m, in \u001b[0;36mstart_server\u001b[1;34m(server_address, server, config, strategy, client_manager, grpc_max_message_length, certificates)\u001b[0m\n\u001b[0;32m    119\u001b[0m log(\n\u001b[0;32m    120\u001b[0m     INFO,\n\u001b[0;32m    121\u001b[0m     \u001b[38;5;124m\"\u001b[39m\u001b[38;5;124mStarting Flower server, config: \u001b[39m\u001b[38;5;132;01m%s\u001b[39;00m\u001b[38;5;124m\"\u001b[39m,\n\u001b[0;32m    122\u001b[0m     initialized_config,\n\u001b[0;32m    123\u001b[0m )\n\u001b[0;32m    125\u001b[0m \u001b[38;5;66;03m# Start gRPC server\u001b[39;00m\n\u001b[1;32m--> 126\u001b[0m grpc_server \u001b[38;5;241m=\u001b[39m \u001b[43mstart_grpc_server\u001b[49m\u001b[43m(\u001b[49m\n\u001b[0;32m    127\u001b[0m \u001b[43m    \u001b[49m\u001b[43mclient_manager\u001b[49m\u001b[38;5;241;43m=\u001b[39;49m\u001b[43minitialized_server\u001b[49m\u001b[38;5;241;43m.\u001b[39;49m\u001b[43mclient_manager\u001b[49m\u001b[43m(\u001b[49m\u001b[43m)\u001b[49m\u001b[43m,\u001b[49m\n\u001b[0;32m    128\u001b[0m \u001b[43m    \u001b[49m\u001b[43mserver_address\u001b[49m\u001b[38;5;241;43m=\u001b[39;49m\u001b[43mserver_address\u001b[49m\u001b[43m,\u001b[49m\n\u001b[0;32m    129\u001b[0m \u001b[43m    \u001b[49m\u001b[43mmax_message_length\u001b[49m\u001b[38;5;241;43m=\u001b[39;49m\u001b[43mgrpc_max_message_length\u001b[49m\u001b[43m,\u001b[49m\n\u001b[0;32m    130\u001b[0m \u001b[43m    \u001b[49m\u001b[43mcertificates\u001b[49m\u001b[38;5;241;43m=\u001b[39;49m\u001b[43mcertificates\u001b[49m\u001b[43m,\u001b[49m\n\u001b[0;32m    131\u001b[0m \u001b[43m\u001b[49m\u001b[43m)\u001b[49m\n\u001b[0;32m    132\u001b[0m log(\n\u001b[0;32m    133\u001b[0m     INFO,\n\u001b[0;32m    134\u001b[0m     \u001b[38;5;124m\"\u001b[39m\u001b[38;5;124mFlower ECE: gRPC server running (\u001b[39m\u001b[38;5;132;01m%s\u001b[39;00m\u001b[38;5;124m rounds), SSL is \u001b[39m\u001b[38;5;132;01m%s\u001b[39;00m\u001b[38;5;124m\"\u001b[39m,\n\u001b[0;32m    135\u001b[0m     initialized_config\u001b[38;5;241m.\u001b[39mnum_rounds,\n\u001b[0;32m    136\u001b[0m     \u001b[38;5;124m\"\u001b[39m\u001b[38;5;124menabled\u001b[39m\u001b[38;5;124m\"\u001b[39m \u001b[38;5;28;01mif\u001b[39;00m certificates \u001b[38;5;129;01mis\u001b[39;00m \u001b[38;5;129;01mnot\u001b[39;00m \u001b[38;5;28;01mNone\u001b[39;00m \u001b[38;5;28;01melse\u001b[39;00m \u001b[38;5;124m\"\u001b[39m\u001b[38;5;124mdisabled\u001b[39m\u001b[38;5;124m\"\u001b[39m,\n\u001b[0;32m    137\u001b[0m )\n\u001b[0;32m    139\u001b[0m \u001b[38;5;66;03m# Start training\u001b[39;00m\n",
      "File \u001b[1;32m~\\Downloads\\anaconda\\lib\\site-packages\\flwr\\server\\grpc_server\\grpc_server.py:181\u001b[0m, in \u001b[0;36mstart_grpc_server\u001b[1;34m(client_manager, server_address, max_concurrent_workers, max_message_length, keepalive_time_ms, certificates)\u001b[0m\n\u001b[0;32m    179\u001b[0m     server\u001b[38;5;241m.\u001b[39madd_secure_port(server_address, server_credentials)\n\u001b[0;32m    180\u001b[0m \u001b[38;5;28;01melse\u001b[39;00m:\n\u001b[1;32m--> 181\u001b[0m     \u001b[43mserver\u001b[49m\u001b[38;5;241;43m.\u001b[39;49m\u001b[43madd_insecure_port\u001b[49m\u001b[43m(\u001b[49m\u001b[43mserver_address\u001b[49m\u001b[43m)\u001b[49m\n\u001b[0;32m    183\u001b[0m server\u001b[38;5;241m.\u001b[39mstart()\n\u001b[0;32m    185\u001b[0m \u001b[38;5;28;01mreturn\u001b[39;00m server\n",
      "File \u001b[1;32m~\\Downloads\\anaconda\\lib\\site-packages\\grpc\\_server.py:969\u001b[0m, in \u001b[0;36m_Server.add_insecure_port\u001b[1;34m(self, address)\u001b[0m\n\u001b[0;32m    968\u001b[0m \u001b[38;5;28;01mdef\u001b[39;00m \u001b[38;5;21madd_insecure_port\u001b[39m(\u001b[38;5;28mself\u001b[39m, address):\n\u001b[1;32m--> 969\u001b[0m     \u001b[38;5;28;01mreturn\u001b[39;00m \u001b[43m_common\u001b[49m\u001b[38;5;241;43m.\u001b[39;49m\u001b[43mvalidate_port_binding_result\u001b[49m\u001b[43m(\u001b[49m\n\u001b[0;32m    970\u001b[0m \u001b[43m        \u001b[49m\u001b[43maddress\u001b[49m\u001b[43m,\u001b[49m\u001b[43m \u001b[49m\u001b[43m_add_insecure_port\u001b[49m\u001b[43m(\u001b[49m\u001b[38;5;28;43mself\u001b[39;49m\u001b[38;5;241;43m.\u001b[39;49m\u001b[43m_state\u001b[49m\u001b[43m,\u001b[49m\u001b[43m \u001b[49m\u001b[43m_common\u001b[49m\u001b[38;5;241;43m.\u001b[39;49m\u001b[43mencode\u001b[49m\u001b[43m(\u001b[49m\u001b[43maddress\u001b[49m\u001b[43m)\u001b[49m\u001b[43m)\u001b[49m\u001b[43m)\u001b[49m\n",
      "File \u001b[1;32m~\\Downloads\\anaconda\\lib\\site-packages\\grpc\\_common.py:166\u001b[0m, in \u001b[0;36mvalidate_port_binding_result\u001b[1;34m(address, port)\u001b[0m\n\u001b[0;32m    153\u001b[0m \u001b[38;5;124;03m\"\"\"Validates if the port binding succeed.\u001b[39;00m\n\u001b[0;32m    154\u001b[0m \n\u001b[0;32m    155\u001b[0m \u001b[38;5;124;03mIf the port returned by Core is 0, the binding is failed. However, in that\u001b[39;00m\n\u001b[1;32m   (...)\u001b[0m\n\u001b[0;32m    161\u001b[0m \u001b[38;5;124;03m    port: An int returned by core\u001b[39;00m\n\u001b[0;32m    162\u001b[0m \u001b[38;5;124;03m\"\"\"\u001b[39;00m\n\u001b[0;32m    163\u001b[0m \u001b[38;5;28;01mif\u001b[39;00m port \u001b[38;5;241m==\u001b[39m \u001b[38;5;241m0\u001b[39m:\n\u001b[0;32m    164\u001b[0m     \u001b[38;5;66;03m# The Core API doesn't return a failure message. The best we can do\u001b[39;00m\n\u001b[0;32m    165\u001b[0m     \u001b[38;5;66;03m# is raising an exception to prevent further confusion.\u001b[39;00m\n\u001b[1;32m--> 166\u001b[0m     \u001b[38;5;28;01mraise\u001b[39;00m \u001b[38;5;167;01mRuntimeError\u001b[39;00m(_ERROR_MESSAGE_PORT_BINDING_FAILED \u001b[38;5;241m%\u001b[39m address)\n\u001b[0;32m    167\u001b[0m \u001b[38;5;28;01melse\u001b[39;00m:\n\u001b[0;32m    168\u001b[0m     \u001b[38;5;28;01mreturn\u001b[39;00m port\n",
      "\u001b[1;31mRuntimeError\u001b[0m: Failed to bind to address localhost:-f; set GRPC_VERBOSITY=debug environment variable to see detailed error message."
     ]
    }
   ],
   "source": [
    "import flwr as fl\n",
    "import sys\n",
    "import numpy as np\n",
    "import random\n",
    "import string\n",
    "import socket\n",
    "from noknow.core import ZK, ZKSignature, ZKParameters, ZKData, ZKProof\n",
    "\n",
    "clients=[]\n",
    "clientsigs=[]\n",
    "\n",
    "def registeration():\n",
    "    password = random.randint(0,10)\n",
    "    label = string.ascii_lowercase\n",
    "    rand_string = ''.join(random.choice(label) for i in range(2))\n",
    "    zk = ZK.new(curve_name=\"secp384r1\", hash_alg=\"sha3_512\")\n",
    "    signature: ZKSignature = zk.create_signature(rand_string)\n",
    "                                                            #         clientsig= ZK.sign(signature, rand_string)\n",
    "    cL=str(signature)\n",
    "    clientsigs.append(cL)\n",
    "#     print(cL)\n",
    "    encryptl=cL.encode('utf-8')\n",
    "    return encryptl\n",
    "SERVER_IP = '192.168.20.1'\n",
    "SERVER_PORT = 5678\n",
    "sig=''\n",
    "with socket.socket(socket.AF_INET , socket.SOCK_STREAM) as s:\n",
    "    x=0\n",
    "    x+=1\n",
    "    s.bind((SERVER_IP, SERVER_PORT))\n",
    "    print('Server is listening')\n",
    "    s.listen(x)\n",
    "    conn,addr = s.accept()\n",
    "    print(f'Connection accepted from :{addr}')\n",
    "    with conn:\n",
    "        while(True):\n",
    "#             conn.send(b'Hello World')\n",
    "#             data = conn.recv(1024)\n",
    "#             data=data.decode('utf-8')\n",
    "#             print(data)\n",
    "            conn.send(registeration())\n",
    "            client = conn.recv(1024)\n",
    "            client=client.decode('utf-8')\n",
    "            clients.append(client)\n",
    "            break\n",
    "with socket.socket(socket.AF_INET , socket.SOCK_STREAM) as s:\n",
    "    x=0\n",
    "    x+=1\n",
    "    s.bind((SERVER_IP, SERVER_PORT))\n",
    "    s.listen(x)\n",
    "    conn,addr = s.accept()\n",
    "    print(f'authentication:{addr}')\n",
    "    with conn:\n",
    "        while(True):\n",
    "#             conn.send(b'send the secret please')\n",
    "            data = conn.recv(1024)\n",
    "            data=data.decode('utf-8')\n",
    "            sig=data\n",
    "#             print(sig)\n",
    "            break\n",
    "def authenticate(sig,i):\n",
    "    if clientsigs[i]==sig:\n",
    "        return True\n",
    "    return False\n",
    "for i in range(0,len(clients)):\n",
    "    name=clients[i]\n",
    "    print(name)\n",
    "    if authenticate(sig,i):\n",
    "        class SaveModelStrategy(fl.server.strategy.FedAvg):\n",
    "            def aggregate_fit(\n",
    "                self,\n",
    "                rnd,\n",
    "                results,\n",
    "                failures\n",
    "            ):\n",
    "                aggregated_weights = super().aggregate_fit(rnd, results, failures)\n",
    "                if aggregated_weights is not None:\n",
    "#                     print(results)\n",
    "                    # Save aggregated_weights\n",
    "                    print(f\"Saving round {rnd} aggregated_weights...\")\n",
    "                    np.savez(f\"round-{rnd}-weights.npz\", *aggregated_weights)\n",
    "                    loss, accuracy = model.evaluate(super(), verbose=0)\n",
    "                    print(\"Eval accuracy : \", accuracy)\n",
    "                return aggregated_weights\n",
    "\n",
    "        # Create strategy and run server\n",
    "        strategy = SaveModelStrategy()\n",
    "\n",
    "        # Start Flower server for three rounds of federated learning\n",
    "\n",
    "        fl.server.start_server(\n",
    "                server_address =\"localhost:\"+str(sys.argv[1]) , \n",
    "                grpc_max_message_length = 1024*1024*1024,\n",
    "                strategy = strategy\n",
    "        )\n",
    "\n",
    "    else:\n",
    "        print(\"malicious user\")"
   ]
  },
  {
   "cell_type": "code",
   "execution_count": null,
   "id": "52b4f20d",
   "metadata": {},
   "outputs": [],
   "source": []
  },
  {
   "cell_type": "code",
   "execution_count": null,
   "id": "cb110834",
   "metadata": {},
   "outputs": [],
   "source": []
  },
  {
   "cell_type": "code",
   "execution_count": null,
   "id": "e931c414",
   "metadata": {},
   "outputs": [],
   "source": []
  }
 ],
 "metadata": {
  "kernelspec": {
   "display_name": "Python 3 (ipykernel)",
   "language": "python",
   "name": "python3"
  },
  "language_info": {
   "codemirror_mode": {
    "name": "ipython",
    "version": 3
   },
   "file_extension": ".py",
   "mimetype": "text/x-python",
   "name": "python",
   "nbconvert_exporter": "python",
   "pygments_lexer": "ipython3",
   "version": "3.9.12"
  }
 },
 "nbformat": 4,
 "nbformat_minor": 5
}
